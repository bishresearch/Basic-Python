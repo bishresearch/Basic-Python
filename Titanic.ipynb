{
 "cells": [
  {
   "cell_type": "code",
   "execution_count": 1,
   "id": "8ecd490a",
   "metadata": {
    "execution": {
     "iopub.execute_input": "2024-10-08T09:02:17.490954Z",
     "iopub.status.busy": "2024-10-08T09:02:17.490353Z",
     "iopub.status.idle": "2024-10-08T09:02:18.537858Z",
     "shell.execute_reply": "2024-10-08T09:02:18.536547Z"
    },
    "papermill": {
     "duration": 1.064026,
     "end_time": "2024-10-08T09:02:18.541203",
     "exception": false,
     "start_time": "2024-10-08T09:02:17.477177",
     "status": "completed"
    },
    "tags": []
   },
   "outputs": [],
   "source": [
    "import pandas as pd \n",
    "import numpy as np\n",
    "import warnings\n",
    "warnings.filterwarnings('ignore')\n"
   ]
  },
  {
   "cell_type": "code",
   "execution_count": 2,
   "id": "02e95959",
   "metadata": {
    "execution": {
     "iopub.execute_input": "2024-10-08T09:02:18.565207Z",
     "iopub.status.busy": "2024-10-08T09:02:18.564482Z",
     "iopub.status.idle": "2024-10-08T09:02:18.690026Z",
     "shell.execute_reply": "2024-10-08T09:02:18.688601Z"
    },
    "papermill": {
     "duration": 0.140863,
     "end_time": "2024-10-08T09:02:18.693084",
     "exception": false,
     "start_time": "2024-10-08T09:02:18.552221",
     "status": "completed"
    },
    "tags": []
   },
   "outputs": [
    {
     "data": {
      "text/html": [
       "<div>\n",
       "<style scoped>\n",
       "    .dataframe tbody tr th:only-of-type {\n",
       "        vertical-align: middle;\n",
       "    }\n",
       "\n",
       "    .dataframe tbody tr th {\n",
       "        vertical-align: top;\n",
       "    }\n",
       "\n",
       "    .dataframe thead th {\n",
       "        text-align: right;\n",
       "    }\n",
       "</style>\n",
       "<table border=\"1\" class=\"dataframe\">\n",
       "  <thead>\n",
       "    <tr style=\"text-align: right;\">\n",
       "      <th></th>\n",
       "      <th>PassengerId</th>\n",
       "      <th>Survived</th>\n",
       "      <th>Pclass</th>\n",
       "      <th>Name</th>\n",
       "      <th>Sex</th>\n",
       "      <th>Age</th>\n",
       "      <th>SibSp</th>\n",
       "      <th>Parch</th>\n",
       "      <th>Ticket</th>\n",
       "      <th>Fare</th>\n",
       "      <th>Cabin</th>\n",
       "      <th>Embarked</th>\n",
       "    </tr>\n",
       "  </thead>\n",
       "  <tbody>\n",
       "    <tr>\n",
       "      <th>0</th>\n",
       "      <td>892</td>\n",
       "      <td>0</td>\n",
       "      <td>3</td>\n",
       "      <td>Kelly, Mr. James</td>\n",
       "      <td>male</td>\n",
       "      <td>34.5</td>\n",
       "      <td>0</td>\n",
       "      <td>0</td>\n",
       "      <td>330911</td>\n",
       "      <td>7.8292</td>\n",
       "      <td>NaN</td>\n",
       "      <td>Q</td>\n",
       "    </tr>\n",
       "    <tr>\n",
       "      <th>1</th>\n",
       "      <td>893</td>\n",
       "      <td>1</td>\n",
       "      <td>3</td>\n",
       "      <td>Wilkes, Mrs. James (Ellen Needs)</td>\n",
       "      <td>female</td>\n",
       "      <td>47.0</td>\n",
       "      <td>1</td>\n",
       "      <td>0</td>\n",
       "      <td>363272</td>\n",
       "      <td>7.0000</td>\n",
       "      <td>NaN</td>\n",
       "      <td>S</td>\n",
       "    </tr>\n",
       "    <tr>\n",
       "      <th>2</th>\n",
       "      <td>894</td>\n",
       "      <td>0</td>\n",
       "      <td>2</td>\n",
       "      <td>Myles, Mr. Thomas Francis</td>\n",
       "      <td>male</td>\n",
       "      <td>62.0</td>\n",
       "      <td>0</td>\n",
       "      <td>0</td>\n",
       "      <td>240276</td>\n",
       "      <td>9.6875</td>\n",
       "      <td>NaN</td>\n",
       "      <td>Q</td>\n",
       "    </tr>\n",
       "    <tr>\n",
       "      <th>3</th>\n",
       "      <td>895</td>\n",
       "      <td>0</td>\n",
       "      <td>3</td>\n",
       "      <td>Wirz, Mr. Albert</td>\n",
       "      <td>male</td>\n",
       "      <td>27.0</td>\n",
       "      <td>0</td>\n",
       "      <td>0</td>\n",
       "      <td>315154</td>\n",
       "      <td>8.6625</td>\n",
       "      <td>NaN</td>\n",
       "      <td>S</td>\n",
       "    </tr>\n",
       "    <tr>\n",
       "      <th>4</th>\n",
       "      <td>896</td>\n",
       "      <td>1</td>\n",
       "      <td>3</td>\n",
       "      <td>Hirvonen, Mrs. Alexander (Helga E Lindqvist)</td>\n",
       "      <td>female</td>\n",
       "      <td>22.0</td>\n",
       "      <td>1</td>\n",
       "      <td>1</td>\n",
       "      <td>3101298</td>\n",
       "      <td>12.2875</td>\n",
       "      <td>NaN</td>\n",
       "      <td>S</td>\n",
       "    </tr>\n",
       "    <tr>\n",
       "      <th>5</th>\n",
       "      <td>897</td>\n",
       "      <td>0</td>\n",
       "      <td>3</td>\n",
       "      <td>Svensson, Mr. Johan Cervin</td>\n",
       "      <td>male</td>\n",
       "      <td>14.0</td>\n",
       "      <td>0</td>\n",
       "      <td>0</td>\n",
       "      <td>7538</td>\n",
       "      <td>9.2250</td>\n",
       "      <td>NaN</td>\n",
       "      <td>S</td>\n",
       "    </tr>\n",
       "    <tr>\n",
       "      <th>6</th>\n",
       "      <td>898</td>\n",
       "      <td>1</td>\n",
       "      <td>3</td>\n",
       "      <td>Connolly, Miss. Kate</td>\n",
       "      <td>female</td>\n",
       "      <td>30.0</td>\n",
       "      <td>0</td>\n",
       "      <td>0</td>\n",
       "      <td>330972</td>\n",
       "      <td>7.6292</td>\n",
       "      <td>NaN</td>\n",
       "      <td>Q</td>\n",
       "    </tr>\n",
       "    <tr>\n",
       "      <th>7</th>\n",
       "      <td>899</td>\n",
       "      <td>0</td>\n",
       "      <td>2</td>\n",
       "      <td>Caldwell, Mr. Albert Francis</td>\n",
       "      <td>male</td>\n",
       "      <td>26.0</td>\n",
       "      <td>1</td>\n",
       "      <td>1</td>\n",
       "      <td>248738</td>\n",
       "      <td>29.0000</td>\n",
       "      <td>NaN</td>\n",
       "      <td>S</td>\n",
       "    </tr>\n",
       "    <tr>\n",
       "      <th>8</th>\n",
       "      <td>900</td>\n",
       "      <td>1</td>\n",
       "      <td>3</td>\n",
       "      <td>Abrahim, Mrs. Joseph (Sophie Halaut Easu)</td>\n",
       "      <td>female</td>\n",
       "      <td>18.0</td>\n",
       "      <td>0</td>\n",
       "      <td>0</td>\n",
       "      <td>2657</td>\n",
       "      <td>7.2292</td>\n",
       "      <td>NaN</td>\n",
       "      <td>C</td>\n",
       "    </tr>\n",
       "    <tr>\n",
       "      <th>9</th>\n",
       "      <td>901</td>\n",
       "      <td>0</td>\n",
       "      <td>3</td>\n",
       "      <td>Davies, Mr. John Samuel</td>\n",
       "      <td>male</td>\n",
       "      <td>21.0</td>\n",
       "      <td>2</td>\n",
       "      <td>0</td>\n",
       "      <td>A/4 48871</td>\n",
       "      <td>24.1500</td>\n",
       "      <td>NaN</td>\n",
       "      <td>S</td>\n",
       "    </tr>\n",
       "  </tbody>\n",
       "</table>\n",
       "</div>"
      ],
      "text/plain": [
       "   PassengerId  Survived  Pclass  \\\n",
       "0          892         0       3   \n",
       "1          893         1       3   \n",
       "2          894         0       2   \n",
       "3          895         0       3   \n",
       "4          896         1       3   \n",
       "5          897         0       3   \n",
       "6          898         1       3   \n",
       "7          899         0       2   \n",
       "8          900         1       3   \n",
       "9          901         0       3   \n",
       "\n",
       "                                           Name     Sex   Age  SibSp  Parch  \\\n",
       "0                              Kelly, Mr. James    male  34.5      0      0   \n",
       "1              Wilkes, Mrs. James (Ellen Needs)  female  47.0      1      0   \n",
       "2                     Myles, Mr. Thomas Francis    male  62.0      0      0   \n",
       "3                              Wirz, Mr. Albert    male  27.0      0      0   \n",
       "4  Hirvonen, Mrs. Alexander (Helga E Lindqvist)  female  22.0      1      1   \n",
       "5                    Svensson, Mr. Johan Cervin    male  14.0      0      0   \n",
       "6                          Connolly, Miss. Kate  female  30.0      0      0   \n",
       "7                  Caldwell, Mr. Albert Francis    male  26.0      1      1   \n",
       "8     Abrahim, Mrs. Joseph (Sophie Halaut Easu)  female  18.0      0      0   \n",
       "9                       Davies, Mr. John Samuel    male  21.0      2      0   \n",
       "\n",
       "      Ticket     Fare Cabin Embarked  \n",
       "0     330911   7.8292   NaN        Q  \n",
       "1     363272   7.0000   NaN        S  \n",
       "2     240276   9.6875   NaN        Q  \n",
       "3     315154   8.6625   NaN        S  \n",
       "4    3101298  12.2875   NaN        S  \n",
       "5       7538   9.2250   NaN        S  \n",
       "6     330972   7.6292   NaN        Q  \n",
       "7     248738  29.0000   NaN        S  \n",
       "8       2657   7.2292   NaN        C  \n",
       "9  A/4 48871  24.1500   NaN        S  "
      ]
     },
     "execution_count": 2,
     "metadata": {},
     "output_type": "execute_result"
    }
   ],
   "source": [
    "df = pd.read_csv('https://raw.githubusercontent.com/bishresearch/ML-and-DL-Practice-and-Assignments/refs/heads/main/Feature%20Engineering/Titanic%20dataset/Titanic.csv')\n",
    "df.head(10)"
   ]
  },
  {
   "cell_type": "code",
   "execution_count": 3,
   "id": "70f427e9",
   "metadata": {
    "execution": {
     "iopub.execute_input": "2024-10-08T09:02:18.717616Z",
     "iopub.status.busy": "2024-10-08T09:02:18.717106Z",
     "iopub.status.idle": "2024-10-08T09:02:18.761787Z",
     "shell.execute_reply": "2024-10-08T09:02:18.760415Z"
    },
    "papermill": {
     "duration": 0.060461,
     "end_time": "2024-10-08T09:02:18.764909",
     "exception": false,
     "start_time": "2024-10-08T09:02:18.704448",
     "status": "completed"
    },
    "tags": []
   },
   "outputs": [
    {
     "data": {
      "text/html": [
       "<div>\n",
       "<style scoped>\n",
       "    .dataframe tbody tr th:only-of-type {\n",
       "        vertical-align: middle;\n",
       "    }\n",
       "\n",
       "    .dataframe tbody tr th {\n",
       "        vertical-align: top;\n",
       "    }\n",
       "\n",
       "    .dataframe thead th {\n",
       "        text-align: right;\n",
       "    }\n",
       "</style>\n",
       "<table border=\"1\" class=\"dataframe\">\n",
       "  <thead>\n",
       "    <tr style=\"text-align: right;\">\n",
       "      <th></th>\n",
       "      <th>PassengerId</th>\n",
       "      <th>Survived</th>\n",
       "      <th>Pclass</th>\n",
       "      <th>Age</th>\n",
       "      <th>SibSp</th>\n",
       "      <th>Parch</th>\n",
       "      <th>Fare</th>\n",
       "    </tr>\n",
       "  </thead>\n",
       "  <tbody>\n",
       "    <tr>\n",
       "      <th>count</th>\n",
       "      <td>418.000000</td>\n",
       "      <td>418.000000</td>\n",
       "      <td>418.000000</td>\n",
       "      <td>332.000000</td>\n",
       "      <td>418.000000</td>\n",
       "      <td>418.000000</td>\n",
       "      <td>417.000000</td>\n",
       "    </tr>\n",
       "    <tr>\n",
       "      <th>mean</th>\n",
       "      <td>1100.500000</td>\n",
       "      <td>0.363636</td>\n",
       "      <td>2.265550</td>\n",
       "      <td>30.272590</td>\n",
       "      <td>0.447368</td>\n",
       "      <td>0.392344</td>\n",
       "      <td>35.627188</td>\n",
       "    </tr>\n",
       "    <tr>\n",
       "      <th>std</th>\n",
       "      <td>120.810458</td>\n",
       "      <td>0.481622</td>\n",
       "      <td>0.841838</td>\n",
       "      <td>14.181209</td>\n",
       "      <td>0.896760</td>\n",
       "      <td>0.981429</td>\n",
       "      <td>55.907576</td>\n",
       "    </tr>\n",
       "    <tr>\n",
       "      <th>min</th>\n",
       "      <td>892.000000</td>\n",
       "      <td>0.000000</td>\n",
       "      <td>1.000000</td>\n",
       "      <td>0.170000</td>\n",
       "      <td>0.000000</td>\n",
       "      <td>0.000000</td>\n",
       "      <td>0.000000</td>\n",
       "    </tr>\n",
       "    <tr>\n",
       "      <th>25%</th>\n",
       "      <td>996.250000</td>\n",
       "      <td>0.000000</td>\n",
       "      <td>1.000000</td>\n",
       "      <td>21.000000</td>\n",
       "      <td>0.000000</td>\n",
       "      <td>0.000000</td>\n",
       "      <td>7.895800</td>\n",
       "    </tr>\n",
       "    <tr>\n",
       "      <th>50%</th>\n",
       "      <td>1100.500000</td>\n",
       "      <td>0.000000</td>\n",
       "      <td>3.000000</td>\n",
       "      <td>27.000000</td>\n",
       "      <td>0.000000</td>\n",
       "      <td>0.000000</td>\n",
       "      <td>14.454200</td>\n",
       "    </tr>\n",
       "    <tr>\n",
       "      <th>75%</th>\n",
       "      <td>1204.750000</td>\n",
       "      <td>1.000000</td>\n",
       "      <td>3.000000</td>\n",
       "      <td>39.000000</td>\n",
       "      <td>1.000000</td>\n",
       "      <td>0.000000</td>\n",
       "      <td>31.500000</td>\n",
       "    </tr>\n",
       "    <tr>\n",
       "      <th>max</th>\n",
       "      <td>1309.000000</td>\n",
       "      <td>1.000000</td>\n",
       "      <td>3.000000</td>\n",
       "      <td>76.000000</td>\n",
       "      <td>8.000000</td>\n",
       "      <td>9.000000</td>\n",
       "      <td>512.329200</td>\n",
       "    </tr>\n",
       "  </tbody>\n",
       "</table>\n",
       "</div>"
      ],
      "text/plain": [
       "       PassengerId    Survived      Pclass         Age       SibSp  \\\n",
       "count   418.000000  418.000000  418.000000  332.000000  418.000000   \n",
       "mean   1100.500000    0.363636    2.265550   30.272590    0.447368   \n",
       "std     120.810458    0.481622    0.841838   14.181209    0.896760   \n",
       "min     892.000000    0.000000    1.000000    0.170000    0.000000   \n",
       "25%     996.250000    0.000000    1.000000   21.000000    0.000000   \n",
       "50%    1100.500000    0.000000    3.000000   27.000000    0.000000   \n",
       "75%    1204.750000    1.000000    3.000000   39.000000    1.000000   \n",
       "max    1309.000000    1.000000    3.000000   76.000000    8.000000   \n",
       "\n",
       "            Parch        Fare  \n",
       "count  418.000000  417.000000  \n",
       "mean     0.392344   35.627188  \n",
       "std      0.981429   55.907576  \n",
       "min      0.000000    0.000000  \n",
       "25%      0.000000    7.895800  \n",
       "50%      0.000000   14.454200  \n",
       "75%      0.000000   31.500000  \n",
       "max      9.000000  512.329200  "
      ]
     },
     "execution_count": 3,
     "metadata": {},
     "output_type": "execute_result"
    }
   ],
   "source": [
    "df.describe()"
   ]
  },
  {
   "cell_type": "code",
   "execution_count": 4,
   "id": "ba96c9e1",
   "metadata": {
    "execution": {
     "iopub.execute_input": "2024-10-08T09:02:18.790766Z",
     "iopub.status.busy": "2024-10-08T09:02:18.790252Z",
     "iopub.status.idle": "2024-10-08T09:02:18.817702Z",
     "shell.execute_reply": "2024-10-08T09:02:18.816301Z"
    },
    "papermill": {
     "duration": 0.043656,
     "end_time": "2024-10-08T09:02:18.820622",
     "exception": false,
     "start_time": "2024-10-08T09:02:18.776966",
     "status": "completed"
    },
    "tags": []
   },
   "outputs": [
    {
     "name": "stdout",
     "output_type": "stream",
     "text": [
      "<class 'pandas.core.frame.DataFrame'>\n",
      "RangeIndex: 418 entries, 0 to 417\n",
      "Data columns (total 12 columns):\n",
      " #   Column       Non-Null Count  Dtype  \n",
      "---  ------       --------------  -----  \n",
      " 0   PassengerId  418 non-null    int64  \n",
      " 1   Survived     418 non-null    int64  \n",
      " 2   Pclass       418 non-null    int64  \n",
      " 3   Name         418 non-null    object \n",
      " 4   Sex          418 non-null    object \n",
      " 5   Age          332 non-null    float64\n",
      " 6   SibSp        418 non-null    int64  \n",
      " 7   Parch        418 non-null    int64  \n",
      " 8   Ticket       418 non-null    object \n",
      " 9   Fare         417 non-null    float64\n",
      " 10  Cabin        91 non-null     object \n",
      " 11  Embarked     418 non-null    object \n",
      "dtypes: float64(2), int64(5), object(5)\n",
      "memory usage: 39.3+ KB\n"
     ]
    }
   ],
   "source": [
    "df.info()"
   ]
  },
  {
   "cell_type": "code",
   "execution_count": 5,
   "id": "c60d5c48",
   "metadata": {
    "execution": {
     "iopub.execute_input": "2024-10-08T09:02:18.847628Z",
     "iopub.status.busy": "2024-10-08T09:02:18.847121Z",
     "iopub.status.idle": "2024-10-08T09:02:18.858200Z",
     "shell.execute_reply": "2024-10-08T09:02:18.856706Z"
    },
    "papermill": {
     "duration": 0.02722,
     "end_time": "2024-10-08T09:02:18.861005",
     "exception": false,
     "start_time": "2024-10-08T09:02:18.833785",
     "status": "completed"
    },
    "tags": []
   },
   "outputs": [],
   "source": [
    "df.drop(['Cabin'], axis=1, inplace=True, errors='ignore')\n"
   ]
  },
  {
   "cell_type": "code",
   "execution_count": 6,
   "id": "6d67afff",
   "metadata": {
    "execution": {
     "iopub.execute_input": "2024-10-08T09:02:18.887715Z",
     "iopub.status.busy": "2024-10-08T09:02:18.887227Z",
     "iopub.status.idle": "2024-10-08T09:02:18.893826Z",
     "shell.execute_reply": "2024-10-08T09:02:18.892613Z"
    },
    "papermill": {
     "duration": 0.024139,
     "end_time": "2024-10-08T09:02:18.897286",
     "exception": false,
     "start_time": "2024-10-08T09:02:18.873147",
     "status": "completed"
    },
    "tags": []
   },
   "outputs": [
    {
     "name": "stdout",
     "output_type": "stream",
     "text": [
      "Index(['PassengerId', 'Survived', 'Pclass', 'Name', 'Sex', 'Age', 'SibSp',\n",
      "       'Parch', 'Ticket', 'Fare', 'Embarked'],\n",
      "      dtype='object')\n"
     ]
    }
   ],
   "source": [
    "print(df.columns)\n"
   ]
  },
  {
   "cell_type": "code",
   "execution_count": 7,
   "id": "b19dea67",
   "metadata": {
    "execution": {
     "iopub.execute_input": "2024-10-08T09:02:18.923175Z",
     "iopub.status.busy": "2024-10-08T09:02:18.922596Z",
     "iopub.status.idle": "2024-10-08T09:02:18.937571Z",
     "shell.execute_reply": "2024-10-08T09:02:18.936304Z"
    },
    "papermill": {
     "duration": 0.031583,
     "end_time": "2024-10-08T09:02:18.940589",
     "exception": false,
     "start_time": "2024-10-08T09:02:18.909006",
     "status": "completed"
    },
    "tags": []
   },
   "outputs": [],
   "source": [
    "df['Age'].fillna(df['Age'].median, inplace=True)\n",
    "df['Fare'].fillna(df['Fare'].median, inplace= True)\n",
    "df['Embarked'].fillna(df['Embarked'].mode()[0], inplace= True)"
   ]
  },
  {
   "cell_type": "code",
   "execution_count": 8,
   "id": "c7403fb3",
   "metadata": {
    "execution": {
     "iopub.execute_input": "2024-10-08T09:02:18.966381Z",
     "iopub.status.busy": "2024-10-08T09:02:18.965854Z",
     "iopub.status.idle": "2024-10-08T09:02:18.979819Z",
     "shell.execute_reply": "2024-10-08T09:02:18.978573Z"
    },
    "papermill": {
     "duration": 0.030586,
     "end_time": "2024-10-08T09:02:18.983021",
     "exception": false,
     "start_time": "2024-10-08T09:02:18.952435",
     "status": "completed"
    },
    "tags": []
   },
   "outputs": [
    {
     "name": "stdout",
     "output_type": "stream",
     "text": [
      "<class 'pandas.core.frame.DataFrame'>\n",
      "RangeIndex: 418 entries, 0 to 417\n",
      "Data columns (total 11 columns):\n",
      " #   Column       Non-Null Count  Dtype \n",
      "---  ------       --------------  ----- \n",
      " 0   PassengerId  418 non-null    int64 \n",
      " 1   Survived     418 non-null    int64 \n",
      " 2   Pclass       418 non-null    int64 \n",
      " 3   Name         418 non-null    object\n",
      " 4   Sex          418 non-null    object\n",
      " 5   Age          418 non-null    object\n",
      " 6   SibSp        418 non-null    int64 \n",
      " 7   Parch        418 non-null    int64 \n",
      " 8   Ticket       418 non-null    object\n",
      " 9   Fare         418 non-null    object\n",
      " 10  Embarked     418 non-null    object\n",
      "dtypes: int64(5), object(6)\n",
      "memory usage: 36.0+ KB\n"
     ]
    }
   ],
   "source": [
    "df.info()"
   ]
  },
  {
   "cell_type": "code",
   "execution_count": 9,
   "id": "b21151c4",
   "metadata": {
    "execution": {
     "iopub.execute_input": "2024-10-08T09:02:19.008596Z",
     "iopub.status.busy": "2024-10-08T09:02:19.008022Z",
     "iopub.status.idle": "2024-10-08T09:02:19.032858Z",
     "shell.execute_reply": "2024-10-08T09:02:19.031313Z"
    },
    "papermill": {
     "duration": 0.041603,
     "end_time": "2024-10-08T09:02:19.036180",
     "exception": false,
     "start_time": "2024-10-08T09:02:18.994577",
     "status": "completed"
    },
    "tags": []
   },
   "outputs": [
    {
     "data": {
      "text/html": [
       "<div>\n",
       "<style scoped>\n",
       "    .dataframe tbody tr th:only-of-type {\n",
       "        vertical-align: middle;\n",
       "    }\n",
       "\n",
       "    .dataframe tbody tr th {\n",
       "        vertical-align: top;\n",
       "    }\n",
       "\n",
       "    .dataframe thead th {\n",
       "        text-align: right;\n",
       "    }\n",
       "</style>\n",
       "<table border=\"1\" class=\"dataframe\">\n",
       "  <thead>\n",
       "    <tr style=\"text-align: right;\">\n",
       "      <th></th>\n",
       "      <th>PassengerId</th>\n",
       "      <th>Survived</th>\n",
       "      <th>Pclass</th>\n",
       "      <th>Name</th>\n",
       "      <th>Sex</th>\n",
       "      <th>Age</th>\n",
       "      <th>SibSp</th>\n",
       "      <th>Parch</th>\n",
       "      <th>Ticket</th>\n",
       "      <th>Fare</th>\n",
       "      <th>Embarked</th>\n",
       "    </tr>\n",
       "  </thead>\n",
       "  <tbody>\n",
       "    <tr>\n",
       "      <th>0</th>\n",
       "      <td>892</td>\n",
       "      <td>0</td>\n",
       "      <td>3</td>\n",
       "      <td>Kelly, Mr. James</td>\n",
       "      <td>0</td>\n",
       "      <td>34.5</td>\n",
       "      <td>0</td>\n",
       "      <td>0</td>\n",
       "      <td>330911</td>\n",
       "      <td>7.8292</td>\n",
       "      <td>1</td>\n",
       "    </tr>\n",
       "    <tr>\n",
       "      <th>1</th>\n",
       "      <td>893</td>\n",
       "      <td>1</td>\n",
       "      <td>3</td>\n",
       "      <td>Wilkes, Mrs. James (Ellen Needs)</td>\n",
       "      <td>1</td>\n",
       "      <td>47.0</td>\n",
       "      <td>1</td>\n",
       "      <td>0</td>\n",
       "      <td>363272</td>\n",
       "      <td>7.0</td>\n",
       "      <td>2</td>\n",
       "    </tr>\n",
       "    <tr>\n",
       "      <th>2</th>\n",
       "      <td>894</td>\n",
       "      <td>0</td>\n",
       "      <td>2</td>\n",
       "      <td>Myles, Mr. Thomas Francis</td>\n",
       "      <td>0</td>\n",
       "      <td>62.0</td>\n",
       "      <td>0</td>\n",
       "      <td>0</td>\n",
       "      <td>240276</td>\n",
       "      <td>9.6875</td>\n",
       "      <td>1</td>\n",
       "    </tr>\n",
       "    <tr>\n",
       "      <th>3</th>\n",
       "      <td>895</td>\n",
       "      <td>0</td>\n",
       "      <td>3</td>\n",
       "      <td>Wirz, Mr. Albert</td>\n",
       "      <td>0</td>\n",
       "      <td>27.0</td>\n",
       "      <td>0</td>\n",
       "      <td>0</td>\n",
       "      <td>315154</td>\n",
       "      <td>8.6625</td>\n",
       "      <td>2</td>\n",
       "    </tr>\n",
       "    <tr>\n",
       "      <th>4</th>\n",
       "      <td>896</td>\n",
       "      <td>1</td>\n",
       "      <td>3</td>\n",
       "      <td>Hirvonen, Mrs. Alexander (Helga E Lindqvist)</td>\n",
       "      <td>1</td>\n",
       "      <td>22.0</td>\n",
       "      <td>1</td>\n",
       "      <td>1</td>\n",
       "      <td>3101298</td>\n",
       "      <td>12.2875</td>\n",
       "      <td>2</td>\n",
       "    </tr>\n",
       "  </tbody>\n",
       "</table>\n",
       "</div>"
      ],
      "text/plain": [
       "   PassengerId  Survived  Pclass  \\\n",
       "0          892         0       3   \n",
       "1          893         1       3   \n",
       "2          894         0       2   \n",
       "3          895         0       3   \n",
       "4          896         1       3   \n",
       "\n",
       "                                           Name  Sex   Age  SibSp  Parch  \\\n",
       "0                              Kelly, Mr. James    0  34.5      0      0   \n",
       "1              Wilkes, Mrs. James (Ellen Needs)    1  47.0      1      0   \n",
       "2                     Myles, Mr. Thomas Francis    0  62.0      0      0   \n",
       "3                              Wirz, Mr. Albert    0  27.0      0      0   \n",
       "4  Hirvonen, Mrs. Alexander (Helga E Lindqvist)    1  22.0      1      1   \n",
       "\n",
       "    Ticket     Fare  Embarked  \n",
       "0   330911   7.8292         1  \n",
       "1   363272      7.0         2  \n",
       "2   240276   9.6875         1  \n",
       "3   315154   8.6625         2  \n",
       "4  3101298  12.2875         2  "
      ]
     },
     "execution_count": 9,
     "metadata": {},
     "output_type": "execute_result"
    }
   ],
   "source": [
    "df['Sex'] = df['Sex'].map({'male':0,'female':1})\n",
    "df['Embarked'] = df['Embarked'].map({'C':0,'Q':1,'S':2})\n",
    "df.head()"
   ]
  },
  {
   "cell_type": "code",
   "execution_count": 10,
   "id": "34a37981",
   "metadata": {
    "execution": {
     "iopub.execute_input": "2024-10-08T09:02:19.062499Z",
     "iopub.status.busy": "2024-10-08T09:02:19.061945Z",
     "iopub.status.idle": "2024-10-08T09:02:19.078201Z",
     "shell.execute_reply": "2024-10-08T09:02:19.076489Z"
    },
    "papermill": {
     "duration": 0.032827,
     "end_time": "2024-10-08T09:02:19.081046",
     "exception": false,
     "start_time": "2024-10-08T09:02:19.048219",
     "status": "completed"
    },
    "tags": []
   },
   "outputs": [
    {
     "name": "stdout",
     "output_type": "stream",
     "text": [
      "<class 'pandas.core.frame.DataFrame'>\n",
      "RangeIndex: 418 entries, 0 to 417\n",
      "Data columns (total 11 columns):\n",
      " #   Column       Non-Null Count  Dtype \n",
      "---  ------       --------------  ----- \n",
      " 0   PassengerId  418 non-null    int64 \n",
      " 1   Survived     418 non-null    int64 \n",
      " 2   Pclass       418 non-null    int64 \n",
      " 3   Name         418 non-null    object\n",
      " 4   Sex          418 non-null    int64 \n",
      " 5   Age          418 non-null    object\n",
      " 6   SibSp        418 non-null    int64 \n",
      " 7   Parch        418 non-null    int64 \n",
      " 8   Ticket       418 non-null    object\n",
      " 9   Fare         418 non-null    object\n",
      " 10  Embarked     418 non-null    int64 \n",
      "dtypes: int64(7), object(4)\n",
      "memory usage: 36.0+ KB\n"
     ]
    }
   ],
   "source": [
    "df.info()"
   ]
  },
  {
   "cell_type": "code",
   "execution_count": 11,
   "id": "184c2646",
   "metadata": {
    "execution": {
     "iopub.execute_input": "2024-10-08T09:02:19.107302Z",
     "iopub.status.busy": "2024-10-08T09:02:19.106774Z",
     "iopub.status.idle": "2024-10-08T09:02:19.459422Z",
     "shell.execute_reply": "2024-10-08T09:02:19.458272Z"
    },
    "papermill": {
     "duration": 0.369017,
     "end_time": "2024-10-08T09:02:19.462277",
     "exception": false,
     "start_time": "2024-10-08T09:02:19.093260",
     "status": "completed"
    },
    "tags": []
   },
   "outputs": [
    {
     "data": {
      "image/png": "[encoded data removed]",
      "text/plain": [
       "<Figure size 640x480 with 1 Axes>"
      ]
     },
     "metadata": {},
     "output_type": "display_data"
    }
   ],
   "source": [
    "import matplotlib.pyplot as plt\n",
    "df['Age'] = pd.to_numeric(df['Age'], errors='coerce')\n",
    "df['Age'].hist(bins=20)\n",
    "plt.show()\n",
    "\n",
    "# df.boxplot(column=['Age', 'Fare'])\n",
    "# plt.show()\n"
   ]
  },
  {
   "cell_type": "code",
   "execution_count": 12,
   "id": "93c2a429",
   "metadata": {
    "execution": {
     "iopub.execute_input": "2024-10-08T09:02:19.489607Z",
     "iopub.status.busy": "2024-10-08T09:02:19.489090Z",
     "iopub.status.idle": "2024-10-08T09:02:19.503348Z",
     "shell.execute_reply": "2024-10-08T09:02:19.501965Z"
    },
    "papermill": {
     "duration": 0.032239,
     "end_time": "2024-10-08T09:02:19.506914",
     "exception": false,
     "start_time": "2024-10-08T09:02:19.474675",
     "status": "completed"
    },
    "tags": []
   },
   "outputs": [
    {
     "name": "stdout",
     "output_type": "stream",
     "text": [
      "                 Age             Fare\n",
      "0    <class 'float'>  <class 'float'>\n",
      "1    <class 'float'>  <class 'float'>\n",
      "2    <class 'float'>  <class 'float'>\n",
      "3    <class 'float'>  <class 'float'>\n",
      "4    <class 'float'>  <class 'float'>\n",
      "..               ...              ...\n",
      "413  <class 'float'>  <class 'float'>\n",
      "414  <class 'float'>  <class 'float'>\n",
      "415  <class 'float'>  <class 'float'>\n",
      "416  <class 'float'>  <class 'float'>\n",
      "417  <class 'float'>  <class 'float'>\n",
      "\n",
      "[418 rows x 2 columns]\n"
     ]
    }
   ],
   "source": [
    "print(df[['Age', 'Fare']].applymap(type))\n"
   ]
  },
  {
   "cell_type": "code",
   "execution_count": 13,
   "id": "cbda3d9a",
   "metadata": {
    "execution": {
     "iopub.execute_input": "2024-10-08T09:02:19.534789Z",
     "iopub.status.busy": "2024-10-08T09:02:19.534229Z",
     "iopub.status.idle": "2024-10-08T09:02:19.542491Z",
     "shell.execute_reply": "2024-10-08T09:02:19.541018Z"
    },
    "papermill": {
     "duration": 0.025798,
     "end_time": "2024-10-08T09:02:19.545440",
     "exception": false,
     "start_time": "2024-10-08T09:02:19.519642",
     "status": "completed"
    },
    "tags": []
   },
   "outputs": [],
   "source": [
    "df['Age'] = pd.to_numeric(df['Age'], errors='coerce')\n",
    "df['Fare'] = pd.to_numeric(df['Fare'], errors='coerce')\n"
   ]
  },
  {
   "cell_type": "code",
   "execution_count": 14,
   "id": "4dfdab7c",
   "metadata": {
    "execution": {
     "iopub.execute_input": "2024-10-08T09:02:19.572841Z",
     "iopub.status.busy": "2024-10-08T09:02:19.572287Z",
     "iopub.status.idle": "2024-10-08T09:02:21.283065Z",
     "shell.execute_reply": "2024-10-08T09:02:21.281469Z"
    },
    "papermill": {
     "duration": 1.728625,
     "end_time": "2024-10-08T09:02:21.286751",
     "exception": false,
     "start_time": "2024-10-08T09:02:19.558126",
     "status": "completed"
    },
    "tags": []
   },
   "outputs": [],
   "source": [
    "from sklearn.preprocessing import MinMaxScaler\n",
    "scaler = MinMaxScaler()\n",
    "df[['Age','Fare']]= scaler.fit_transform(df[['Age','Fare']])"
   ]
  },
  {
   "cell_type": "code",
   "execution_count": 15,
   "id": "124a7e9f",
   "metadata": {
    "execution": {
     "iopub.execute_input": "2024-10-08T09:02:21.316037Z",
     "iopub.status.busy": "2024-10-08T09:02:21.315216Z",
     "iopub.status.idle": "2024-10-08T09:02:21.338728Z",
     "shell.execute_reply": "2024-10-08T09:02:21.337349Z"
    },
    "papermill": {
     "duration": 0.040959,
     "end_time": "2024-10-08T09:02:21.341648",
     "exception": false,
     "start_time": "2024-10-08T09:02:21.300689",
     "status": "completed"
    },
    "tags": []
   },
   "outputs": [
    {
     "data": {
      "text/html": [
       "<div>\n",
       "<style scoped>\n",
       "    .dataframe tbody tr th:only-of-type {\n",
       "        vertical-align: middle;\n",
       "    }\n",
       "\n",
       "    .dataframe tbody tr th {\n",
       "        vertical-align: top;\n",
       "    }\n",
       "\n",
       "    .dataframe thead th {\n",
       "        text-align: right;\n",
       "    }\n",
       "</style>\n",
       "<table border=\"1\" class=\"dataframe\">\n",
       "  <thead>\n",
       "    <tr style=\"text-align: right;\">\n",
       "      <th></th>\n",
       "      <th>PassengerId</th>\n",
       "      <th>Survived</th>\n",
       "      <th>Pclass</th>\n",
       "      <th>Name</th>\n",
       "      <th>Sex</th>\n",
       "      <th>Age</th>\n",
       "      <th>SibSp</th>\n",
       "      <th>Parch</th>\n",
       "      <th>Ticket</th>\n",
       "      <th>Fare</th>\n",
       "      <th>Embarked</th>\n",
       "      <th>Famlysize</th>\n",
       "    </tr>\n",
       "  </thead>\n",
       "  <tbody>\n",
       "    <tr>\n",
       "      <th>0</th>\n",
       "      <td>892</td>\n",
       "      <td>0</td>\n",
       "      <td>3</td>\n",
       "      <td>Kelly, Mr. James</td>\n",
       "      <td>0</td>\n",
       "      <td>0.452723</td>\n",
       "      <td>0</td>\n",
       "      <td>0</td>\n",
       "      <td>330911</td>\n",
       "      <td>0.015282</td>\n",
       "      <td>1</td>\n",
       "      <td>1</td>\n",
       "    </tr>\n",
       "    <tr>\n",
       "      <th>1</th>\n",
       "      <td>893</td>\n",
       "      <td>1</td>\n",
       "      <td>3</td>\n",
       "      <td>Wilkes, Mrs. James (Ellen Needs)</td>\n",
       "      <td>1</td>\n",
       "      <td>0.617566</td>\n",
       "      <td>1</td>\n",
       "      <td>0</td>\n",
       "      <td>363272</td>\n",
       "      <td>0.013663</td>\n",
       "      <td>2</td>\n",
       "      <td>2</td>\n",
       "    </tr>\n",
       "    <tr>\n",
       "      <th>2</th>\n",
       "      <td>894</td>\n",
       "      <td>0</td>\n",
       "      <td>2</td>\n",
       "      <td>Myles, Mr. Thomas Francis</td>\n",
       "      <td>0</td>\n",
       "      <td>0.815377</td>\n",
       "      <td>0</td>\n",
       "      <td>0</td>\n",
       "      <td>240276</td>\n",
       "      <td>0.018909</td>\n",
       "      <td>1</td>\n",
       "      <td>1</td>\n",
       "    </tr>\n",
       "    <tr>\n",
       "      <th>3</th>\n",
       "      <td>895</td>\n",
       "      <td>0</td>\n",
       "      <td>3</td>\n",
       "      <td>Wirz, Mr. Albert</td>\n",
       "      <td>0</td>\n",
       "      <td>0.353818</td>\n",
       "      <td>0</td>\n",
       "      <td>0</td>\n",
       "      <td>315154</td>\n",
       "      <td>0.016908</td>\n",
       "      <td>2</td>\n",
       "      <td>1</td>\n",
       "    </tr>\n",
       "    <tr>\n",
       "      <th>4</th>\n",
       "      <td>896</td>\n",
       "      <td>1</td>\n",
       "      <td>3</td>\n",
       "      <td>Hirvonen, Mrs. Alexander (Helga E Lindqvist)</td>\n",
       "      <td>1</td>\n",
       "      <td>0.287881</td>\n",
       "      <td>1</td>\n",
       "      <td>1</td>\n",
       "      <td>3101298</td>\n",
       "      <td>0.023984</td>\n",
       "      <td>2</td>\n",
       "      <td>3</td>\n",
       "    </tr>\n",
       "  </tbody>\n",
       "</table>\n",
       "</div>"
      ],
      "text/plain": [
       "   PassengerId  Survived  Pclass  \\\n",
       "0          892         0       3   \n",
       "1          893         1       3   \n",
       "2          894         0       2   \n",
       "3          895         0       3   \n",
       "4          896         1       3   \n",
       "\n",
       "                                           Name  Sex       Age  SibSp  Parch  \\\n",
       "0                              Kelly, Mr. James    0  0.452723      0      0   \n",
       "1              Wilkes, Mrs. James (Ellen Needs)    1  0.617566      1      0   \n",
       "2                     Myles, Mr. Thomas Francis    0  0.815377      0      0   \n",
       "3                              Wirz, Mr. Albert    0  0.353818      0      0   \n",
       "4  Hirvonen, Mrs. Alexander (Helga E Lindqvist)    1  0.287881      1      1   \n",
       "\n",
       "    Ticket      Fare  Embarked  Famlysize  \n",
       "0   330911  0.015282         1          1  \n",
       "1   363272  0.013663         2          2  \n",
       "2   240276  0.018909         1          1  \n",
       "3   315154  0.016908         2          1  \n",
       "4  3101298  0.023984         2          3  "
      ]
     },
     "execution_count": 15,
     "metadata": {},
     "output_type": "execute_result"
    }
   ],
   "source": [
    "df['Famlysize'] = df['SibSp'] + df['Parch'] + 1\n",
    "df.head()"
   ]
  },
  {
   "cell_type": "code",
   "execution_count": 16,
   "id": "bf130f80",
   "metadata": {
    "execution": {
     "iopub.execute_input": "2024-10-08T09:02:21.370075Z",
     "iopub.status.busy": "2024-10-08T09:02:21.369490Z",
     "iopub.status.idle": "2024-10-08T09:02:21.378164Z",
     "shell.execute_reply": "2024-10-08T09:02:21.376827Z"
    },
    "papermill": {
     "duration": 0.025877,
     "end_time": "2024-10-08T09:02:21.380682",
     "exception": false,
     "start_time": "2024-10-08T09:02:21.354805",
     "status": "completed"
    },
    "tags": []
   },
   "outputs": [],
   "source": [
    "x = df.drop('Survived', axis=1)\n",
    "y = df['Survived']"
   ]
  },
  {
   "cell_type": "code",
   "execution_count": 17,
   "id": "b9c52e1b",
   "metadata": {
    "execution": {
     "iopub.execute_input": "2024-10-08T09:02:21.412053Z",
     "iopub.status.busy": "2024-10-08T09:02:21.410563Z",
     "iopub.status.idle": "2024-10-08T09:02:21.430357Z",
     "shell.execute_reply": "2024-10-08T09:02:21.428945Z"
    },
    "papermill": {
     "duration": 0.0397,
     "end_time": "2024-10-08T09:02:21.433652",
     "exception": false,
     "start_time": "2024-10-08T09:02:21.393952",
     "status": "completed"
    },
    "tags": []
   },
   "outputs": [
    {
     "data": {
      "text/html": [
       "<div>\n",
       "<style scoped>\n",
       "    .dataframe tbody tr th:only-of-type {\n",
       "        vertical-align: middle;\n",
       "    }\n",
       "\n",
       "    .dataframe tbody tr th {\n",
       "        vertical-align: top;\n",
       "    }\n",
       "\n",
       "    .dataframe thead th {\n",
       "        text-align: right;\n",
       "    }\n",
       "</style>\n",
       "<table border=\"1\" class=\"dataframe\">\n",
       "  <thead>\n",
       "    <tr style=\"text-align: right;\">\n",
       "      <th></th>\n",
       "      <th>PassengerId</th>\n",
       "      <th>Pclass</th>\n",
       "      <th>Name</th>\n",
       "      <th>Sex</th>\n",
       "      <th>Age</th>\n",
       "      <th>SibSp</th>\n",
       "      <th>Parch</th>\n",
       "      <th>Ticket</th>\n",
       "      <th>Fare</th>\n",
       "      <th>Embarked</th>\n",
       "      <th>Famlysize</th>\n",
       "    </tr>\n",
       "  </thead>\n",
       "  <tbody>\n",
       "    <tr>\n",
       "      <th>0</th>\n",
       "      <td>892</td>\n",
       "      <td>3</td>\n",
       "      <td>Kelly, Mr. James</td>\n",
       "      <td>0</td>\n",
       "      <td>0.452723</td>\n",
       "      <td>0</td>\n",
       "      <td>0</td>\n",
       "      <td>330911</td>\n",
       "      <td>0.015282</td>\n",
       "      <td>1</td>\n",
       "      <td>1</td>\n",
       "    </tr>\n",
       "    <tr>\n",
       "      <th>1</th>\n",
       "      <td>893</td>\n",
       "      <td>3</td>\n",
       "      <td>Wilkes, Mrs. James (Ellen Needs)</td>\n",
       "      <td>1</td>\n",
       "      <td>0.617566</td>\n",
       "      <td>1</td>\n",
       "      <td>0</td>\n",
       "      <td>363272</td>\n",
       "      <td>0.013663</td>\n",
       "      <td>2</td>\n",
       "      <td>2</td>\n",
       "    </tr>\n",
       "    <tr>\n",
       "      <th>2</th>\n",
       "      <td>894</td>\n",
       "      <td>2</td>\n",
       "      <td>Myles, Mr. Thomas Francis</td>\n",
       "      <td>0</td>\n",
       "      <td>0.815377</td>\n",
       "      <td>0</td>\n",
       "      <td>0</td>\n",
       "      <td>240276</td>\n",
       "      <td>0.018909</td>\n",
       "      <td>1</td>\n",
       "      <td>1</td>\n",
       "    </tr>\n",
       "    <tr>\n",
       "      <th>3</th>\n",
       "      <td>895</td>\n",
       "      <td>3</td>\n",
       "      <td>Wirz, Mr. Albert</td>\n",
       "      <td>0</td>\n",
       "      <td>0.353818</td>\n",
       "      <td>0</td>\n",
       "      <td>0</td>\n",
       "      <td>315154</td>\n",
       "      <td>0.016908</td>\n",
       "      <td>2</td>\n",
       "      <td>1</td>\n",
       "    </tr>\n",
       "    <tr>\n",
       "      <th>4</th>\n",
       "      <td>896</td>\n",
       "      <td>3</td>\n",
       "      <td>Hirvonen, Mrs. Alexander (Helga E Lindqvist)</td>\n",
       "      <td>1</td>\n",
       "      <td>0.287881</td>\n",
       "      <td>1</td>\n",
       "      <td>1</td>\n",
       "      <td>3101298</td>\n",
       "      <td>0.023984</td>\n",
       "      <td>2</td>\n",
       "      <td>3</td>\n",
       "    </tr>\n",
       "  </tbody>\n",
       "</table>\n",
       "</div>"
      ],
      "text/plain": [
       "   PassengerId  Pclass                                          Name  Sex  \\\n",
       "0          892       3                              Kelly, Mr. James    0   \n",
       "1          893       3              Wilkes, Mrs. James (Ellen Needs)    1   \n",
       "2          894       2                     Myles, Mr. Thomas Francis    0   \n",
       "3          895       3                              Wirz, Mr. Albert    0   \n",
       "4          896       3  Hirvonen, Mrs. Alexander (Helga E Lindqvist)    1   \n",
       "\n",
       "        Age  SibSp  Parch   Ticket      Fare  Embarked  Famlysize  \n",
       "0  0.452723      0      0   330911  0.015282         1          1  \n",
       "1  0.617566      1      0   363272  0.013663         2          2  \n",
       "2  0.815377      0      0   240276  0.018909         1          1  \n",
       "3  0.353818      0      0   315154  0.016908         2          1  \n",
       "4  0.287881      1      1  3101298  0.023984         2          3  "
      ]
     },
     "execution_count": 17,
     "metadata": {},
     "output_type": "execute_result"
    }
   ],
   "source": [
    "x.head()"
   ]
  },
  {
   "cell_type": "code",
   "execution_count": 18,
   "id": "ba460f77",
   "metadata": {
    "execution": {
     "iopub.execute_input": "2024-10-08T09:02:21.462964Z",
     "iopub.status.busy": "2024-10-08T09:02:21.462391Z",
     "iopub.status.idle": "2024-10-08T09:02:21.469254Z",
     "shell.execute_reply": "2024-10-08T09:02:21.467989Z"
    },
    "papermill": {
     "duration": 0.025454,
     "end_time": "2024-10-08T09:02:21.472512",
     "exception": false,
     "start_time": "2024-10-08T09:02:21.447058",
     "status": "completed"
    },
    "tags": []
   },
   "outputs": [
    {
     "name": "stdout",
     "output_type": "stream",
     "text": [
      "Index(['PassengerId', 'Pclass', 'Name', 'Sex', 'Age', 'SibSp', 'Parch',\n",
      "       'Ticket', 'Fare', 'Embarked', 'Famlysize'],\n",
      "      dtype='object')\n"
     ]
    }
   ],
   "source": [
    "print(x.columns)\n",
    "\n",
    "# x.drop(['Name', 'Ticket'], axis=1)\n",
    "# x.head()"
   ]
  },
  {
   "cell_type": "code",
   "execution_count": 19,
   "id": "3afab764",
   "metadata": {
    "execution": {
     "iopub.execute_input": "2024-10-08T09:02:21.501095Z",
     "iopub.status.busy": "2024-10-08T09:02:21.500562Z",
     "iopub.status.idle": "2024-10-08T09:02:21.510401Z",
     "shell.execute_reply": "2024-10-08T09:02:21.509089Z"
    },
    "papermill": {
     "duration": 0.027033,
     "end_time": "2024-10-08T09:02:21.512856",
     "exception": false,
     "start_time": "2024-10-08T09:02:21.485823",
     "status": "completed"
    },
    "tags": []
   },
   "outputs": [],
   "source": [
    "x.isnull().sum()\n",
    "if 'Name' in x.columns and 'Ticket' in x.columns:\n",
    "    x = x.drop(['Name', 'Ticket'], axis=1)"
   ]
  },
  {
   "cell_type": "code",
   "execution_count": 20,
   "id": "6738b04a",
   "metadata": {
    "execution": {
     "iopub.execute_input": "2024-10-08T09:02:21.542382Z",
     "iopub.status.busy": "2024-10-08T09:02:21.541096Z",
     "iopub.status.idle": "2024-10-08T09:02:21.550247Z",
     "shell.execute_reply": "2024-10-08T09:02:21.549000Z"
    },
    "papermill": {
     "duration": 0.02646,
     "end_time": "2024-10-08T09:02:21.552880",
     "exception": false,
     "start_time": "2024-10-08T09:02:21.526420",
     "status": "completed"
    },
    "tags": []
   },
   "outputs": [],
   "source": [
    "x['Age'].fillna(x['Age'].median(),inplace= True)\n",
    "x['Fare'].fillna(x['Fare'].median(),inplace= True)"
   ]
  },
  {
   "cell_type": "code",
   "execution_count": 21,
   "id": "19c02a1b",
   "metadata": {
    "execution": {
     "iopub.execute_input": "2024-10-08T09:02:21.582648Z",
     "iopub.status.busy": "2024-10-08T09:02:21.581661Z",
     "iopub.status.idle": "2024-10-08T09:02:21.599216Z",
     "shell.execute_reply": "2024-10-08T09:02:21.597869Z"
    },
    "papermill": {
     "duration": 0.035727,
     "end_time": "2024-10-08T09:02:21.602106",
     "exception": false,
     "start_time": "2024-10-08T09:02:21.566379",
     "status": "completed"
    },
    "tags": []
   },
   "outputs": [
    {
     "data": {
      "text/html": [
       "<div>\n",
       "<style scoped>\n",
       "    .dataframe tbody tr th:only-of-type {\n",
       "        vertical-align: middle;\n",
       "    }\n",
       "\n",
       "    .dataframe tbody tr th {\n",
       "        vertical-align: top;\n",
       "    }\n",
       "\n",
       "    .dataframe thead th {\n",
       "        text-align: right;\n",
       "    }\n",
       "</style>\n",
       "<table border=\"1\" class=\"dataframe\">\n",
       "  <thead>\n",
       "    <tr style=\"text-align: right;\">\n",
       "      <th></th>\n",
       "      <th>PassengerId</th>\n",
       "      <th>Pclass</th>\n",
       "      <th>Sex</th>\n",
       "      <th>Age</th>\n",
       "      <th>SibSp</th>\n",
       "      <th>Parch</th>\n",
       "      <th>Fare</th>\n",
       "      <th>Embarked</th>\n",
       "      <th>Famlysize</th>\n",
       "    </tr>\n",
       "  </thead>\n",
       "  <tbody>\n",
       "    <tr>\n",
       "      <th>0</th>\n",
       "      <td>892</td>\n",
       "      <td>3</td>\n",
       "      <td>0</td>\n",
       "      <td>0.452723</td>\n",
       "      <td>0</td>\n",
       "      <td>0</td>\n",
       "      <td>0.015282</td>\n",
       "      <td>1</td>\n",
       "      <td>1</td>\n",
       "    </tr>\n",
       "    <tr>\n",
       "      <th>1</th>\n",
       "      <td>893</td>\n",
       "      <td>3</td>\n",
       "      <td>1</td>\n",
       "      <td>0.617566</td>\n",
       "      <td>1</td>\n",
       "      <td>0</td>\n",
       "      <td>0.013663</td>\n",
       "      <td>2</td>\n",
       "      <td>2</td>\n",
       "    </tr>\n",
       "    <tr>\n",
       "      <th>2</th>\n",
       "      <td>894</td>\n",
       "      <td>2</td>\n",
       "      <td>0</td>\n",
       "      <td>0.815377</td>\n",
       "      <td>0</td>\n",
       "      <td>0</td>\n",
       "      <td>0.018909</td>\n",
       "      <td>1</td>\n",
       "      <td>1</td>\n",
       "    </tr>\n",
       "    <tr>\n",
       "      <th>3</th>\n",
       "      <td>895</td>\n",
       "      <td>3</td>\n",
       "      <td>0</td>\n",
       "      <td>0.353818</td>\n",
       "      <td>0</td>\n",
       "      <td>0</td>\n",
       "      <td>0.016908</td>\n",
       "      <td>2</td>\n",
       "      <td>1</td>\n",
       "    </tr>\n",
       "    <tr>\n",
       "      <th>4</th>\n",
       "      <td>896</td>\n",
       "      <td>3</td>\n",
       "      <td>1</td>\n",
       "      <td>0.287881</td>\n",
       "      <td>1</td>\n",
       "      <td>1</td>\n",
       "      <td>0.023984</td>\n",
       "      <td>2</td>\n",
       "      <td>3</td>\n",
       "    </tr>\n",
       "  </tbody>\n",
       "</table>\n",
       "</div>"
      ],
      "text/plain": [
       "   PassengerId  Pclass  Sex       Age  SibSp  Parch      Fare  Embarked  \\\n",
       "0          892       3    0  0.452723      0      0  0.015282         1   \n",
       "1          893       3    1  0.617566      1      0  0.013663         2   \n",
       "2          894       2    0  0.815377      0      0  0.018909         1   \n",
       "3          895       3    0  0.353818      0      0  0.016908         2   \n",
       "4          896       3    1  0.287881      1      1  0.023984         2   \n",
       "\n",
       "   Famlysize  \n",
       "0          1  \n",
       "1          2  \n",
       "2          1  \n",
       "3          1  \n",
       "4          3  "
      ]
     },
     "execution_count": 21,
     "metadata": {},
     "output_type": "execute_result"
    }
   ],
   "source": [
    "x.head()"
   ]
  },
  {
   "cell_type": "code",
   "execution_count": 22,
   "id": "6af2f2fc",
   "metadata": {
    "execution": {
     "iopub.execute_input": "2024-10-08T09:02:21.633046Z",
     "iopub.status.busy": "2024-10-08T09:02:21.631682Z",
     "iopub.status.idle": "2024-10-08T09:02:21.864241Z",
     "shell.execute_reply": "2024-10-08T09:02:21.862701Z"
    },
    "papermill": {
     "duration": 0.251345,
     "end_time": "2024-10-08T09:02:21.867530",
     "exception": false,
     "start_time": "2024-10-08T09:02:21.616185",
     "status": "completed"
    },
    "tags": []
   },
   "outputs": [
    {
     "data": {
      "image/png": "[encoded data removed]",
      "text/plain": [
       "<Figure size 640x480 with 1 Axes>"
      ]
     },
     "metadata": {},
     "output_type": "display_data"
    }
   ],
   "source": [
    "df['Famlysize'].hist(bins=10)\n",
    "plt.xlabel('Family Size')\n",
    "plt.ylabel('Fequency')\n",
    "plt.show()"
   ]
  },
  {
   "cell_type": "code",
   "execution_count": 23,
   "id": "fb1a3d62",
   "metadata": {
    "execution": {
     "iopub.execute_input": "2024-10-08T09:02:21.899925Z",
     "iopub.status.busy": "2024-10-08T09:02:21.898742Z",
     "iopub.status.idle": "2024-10-08T09:02:22.001805Z",
     "shell.execute_reply": "2024-10-08T09:02:22.000250Z"
    },
    "papermill": {
     "duration": 0.123007,
     "end_time": "2024-10-08T09:02:22.005360",
     "exception": false,
     "start_time": "2024-10-08T09:02:21.882353",
     "status": "completed"
    },
    "tags": []
   },
   "outputs": [],
   "source": [
    "from sklearn.model_selection import train_test_split as tts"
   ]
  },
  {
   "cell_type": "code",
   "execution_count": 24,
   "id": "ea432fe4",
   "metadata": {
    "execution": {
     "iopub.execute_input": "2024-10-08T09:02:22.036498Z",
     "iopub.status.busy": "2024-10-08T09:02:22.035846Z",
     "iopub.status.idle": "2024-10-08T09:02:22.047770Z",
     "shell.execute_reply": "2024-10-08T09:02:22.046558Z"
    },
    "papermill": {
     "duration": 0.031233,
     "end_time": "2024-10-08T09:02:22.050645",
     "exception": false,
     "start_time": "2024-10-08T09:02:22.019412",
     "status": "completed"
    },
    "tags": []
   },
   "outputs": [],
   "source": [
    "x_train, x_test, y_train, y_test = tts(x,y,test_size=.2, random_state=42 )"
   ]
  },
  {
   "cell_type": "markdown",
   "id": "5f7b323d",
   "metadata": {
    "papermill": {
     "duration": 0.013443,
     "end_time": "2024-10-08T09:02:22.078046",
     "exception": false,
     "start_time": "2024-10-08T09:02:22.064603",
     "status": "completed"
    },
    "tags": []
   },
   "source": [
    "# Logistic Regression"
   ]
  },
  {
   "cell_type": "code",
   "execution_count": 25,
   "id": "0143e9fa",
   "metadata": {
    "execution": {
     "iopub.execute_input": "2024-10-08T09:02:22.108968Z",
     "iopub.status.busy": "2024-10-08T09:02:22.108339Z",
     "iopub.status.idle": "2024-10-08T09:02:22.263586Z",
     "shell.execute_reply": "2024-10-08T09:02:22.262187Z"
    },
    "papermill": {
     "duration": 0.173818,
     "end_time": "2024-10-08T09:02:22.266648",
     "exception": false,
     "start_time": "2024-10-08T09:02:22.092830",
     "status": "completed"
    },
    "tags": []
   },
   "outputs": [
    {
     "data": {
      "text/html": [
       "<style>#sk-container-id-1 {color: black;background-color: white;}#sk-container-id-1 pre{padding: 0;}#sk-container-id-1 div.sk-toggleable {background-color: white;}#sk-container-id-1 label.sk-toggleable__label {cursor: pointer;display: block;width: 100%;margin-bottom: 0;padding: 0.3em;box-sizing: border-box;text-align: center;}#sk-container-id-1 label.sk-toggleable__label-arrow:before {content: \"▸\";float: left;margin-right: 0.25em;color: #696969;}#sk-container-id-1 label.sk-toggleable__label-arrow:hover:before {color: black;}#sk-container-id-1 div.sk-estimator:hover label.sk-toggleable__label-arrow:before {color: black;}#sk-container-id-1 div.sk-toggleable__content {max-height: 0;max-width: 0;overflow: hidden;text-align: left;background-color: #f0f8ff;}#sk-container-id-1 div.sk-toggleable__content pre {margin: 0.2em;color: black;border-radius: 0.25em;background-color: #f0f8ff;}#sk-container-id-1 input.sk-toggleable__control:checked~div.sk-toggleable__content {max-height: 200px;max-width: 100%;overflow: auto;}#sk-container-id-1 input.sk-toggleable__control:checked~label.sk-toggleable__label-arrow:before {content: \"▾\";}#sk-container-id-1 div.sk-estimator input.sk-toggleable__control:checked~label.sk-toggleable__label {background-color: #d4ebff;}#sk-container-id-1 div.sk-label input.sk-toggleable__control:checked~label.sk-toggleable__label {background-color: #d4ebff;}#sk-container-id-1 input.sk-hidden--visually {border: 0;clip: rect(1px 1px 1px 1px);clip: rect(1px, 1px, 1px, 1px);height: 1px;margin: -1px;overflow: hidden;padding: 0;position: absolute;width: 1px;}#sk-container-id-1 div.sk-estimator {font-family: monospace;background-color: #f0f8ff;border: 1px dotted black;border-radius: 0.25em;box-sizing: border-box;margin-bottom: 0.5em;}#sk-container-id-1 div.sk-estimator:hover {background-color: #d4ebff;}#sk-container-id-1 div.sk-parallel-item::after {content: \"\";width: 100%;border-bottom: 1px solid gray;flex-grow: 1;}#sk-container-id-1 div.sk-label:hover label.sk-toggleable__label {background-color: #d4ebff;}#sk-container-id-1 div.sk-serial::before {content: \"\";position: absolute;border-left: 1px solid gray;box-sizing: border-box;top: 0;bottom: 0;left: 50%;z-index: 0;}#sk-container-id-1 div.sk-serial {display: flex;flex-direction: column;align-items: center;background-color: white;padding-right: 0.2em;padding-left: 0.2em;position: relative;}#sk-container-id-1 div.sk-item {position: relative;z-index: 1;}#sk-container-id-1 div.sk-parallel {display: flex;align-items: stretch;justify-content: center;background-color: white;position: relative;}#sk-container-id-1 div.sk-item::before, #sk-container-id-1 div.sk-parallel-item::before {content: \"\";position: absolute;border-left: 1px solid gray;box-sizing: border-box;top: 0;bottom: 0;left: 50%;z-index: -1;}#sk-container-id-1 div.sk-parallel-item {display: flex;flex-direction: column;z-index: 1;position: relative;background-color: white;}#sk-container-id-1 div.sk-parallel-item:first-child::after {align-self: flex-end;width: 50%;}#sk-container-id-1 div.sk-parallel-item:last-child::after {align-self: flex-start;width: 50%;}#sk-container-id-1 div.sk-parallel-item:only-child::after {width: 0;}#sk-container-id-1 div.sk-dashed-wrapped {border: 1px dashed gray;margin: 0 0.4em 0.5em 0.4em;box-sizing: border-box;padding-bottom: 0.4em;background-color: white;}#sk-container-id-1 div.sk-label label {font-family: monospace;font-weight: bold;display: inline-block;line-height: 1.2em;}#sk-container-id-1 div.sk-label-container {text-align: center;}#sk-container-id-1 div.sk-container {/* jupyter's `normalize.less` sets `[hidden] { display: none; }` but bootstrap.min.css set `[hidden] { display: none !important; }` so we also need the `!important` here to be able to override the default hidden behavior on the sphinx rendered scikit-learn.org. See: https://github.com/scikit-learn/scikit-learn/issues/21755 */display: inline-block !important;position: relative;}#sk-container-id-1 div.sk-text-repr-fallback {display: none;}</style><div id=\"sk-container-id-1\" class=\"sk-top-container\"><div class=\"sk-text-repr-fallback\"><pre>LogisticRegression()</pre><b>In a Jupyter environment, please rerun this cell to show the HTML representation or trust the notebook. <br />On GitHub, the HTML representation is unable to render, please try loading this page with nbviewer.org.</b></div><div class=\"sk-container\" hidden><div class=\"sk-item\"><div class=\"sk-estimator sk-toggleable\"><input class=\"sk-toggleable__control sk-hidden--visually\" id=\"sk-estimator-id-1\" type=\"checkbox\" checked><label for=\"sk-estimator-id-1\" class=\"sk-toggleable__label sk-toggleable__label-arrow\">LogisticRegression</label><div class=\"sk-toggleable__content\"><pre>LogisticRegression()</pre></div></div></div></div></div>"
      ],
      "text/plain": [
       "LogisticRegression()"
      ]
     },
     "execution_count": 25,
     "metadata": {},
     "output_type": "execute_result"
    }
   ],
   "source": [
    "from sklearn.linear_model import LogisticRegression\n",
    "reg = LogisticRegression()\n",
    "reg.fit(x_train,y_train)"
   ]
  },
  {
   "cell_type": "code",
   "execution_count": 26,
   "id": "a2d15661",
   "metadata": {
    "execution": {
     "iopub.execute_input": "2024-10-08T09:02:22.297912Z",
     "iopub.status.busy": "2024-10-08T09:02:22.297325Z",
     "iopub.status.idle": "2024-10-08T09:02:22.306734Z",
     "shell.execute_reply": "2024-10-08T09:02:22.305407Z"
    },
    "papermill": {
     "duration": 0.028672,
     "end_time": "2024-10-08T09:02:22.309710",
     "exception": false,
     "start_time": "2024-10-08T09:02:22.281038",
     "status": "completed"
    },
    "tags": []
   },
   "outputs": [],
   "source": [
    "y_pred_lg = reg.predict(x_test)"
   ]
  },
  {
   "cell_type": "code",
   "execution_count": 27,
   "id": "ff69f92e",
   "metadata": {
    "execution": {
     "iopub.execute_input": "2024-10-08T09:02:22.341551Z",
     "iopub.status.busy": "2024-10-08T09:02:22.340380Z",
     "iopub.status.idle": "2024-10-08T09:02:22.349577Z",
     "shell.execute_reply": "2024-10-08T09:02:22.348128Z"
    },
    "papermill": {
     "duration": 0.029459,
     "end_time": "2024-10-08T09:02:22.353565",
     "exception": false,
     "start_time": "2024-10-08T09:02:22.324106",
     "status": "completed"
    },
    "tags": []
   },
   "outputs": [
    {
     "name": "stdout",
     "output_type": "stream",
     "text": [
      "Accurecy: 100.00%\n"
     ]
    }
   ],
   "source": [
    "from sklearn.metrics import accuracy_score\n",
    "accuracy = accuracy_score(y_test,y_pred_lg)\n",
    "print(f\"Accurecy: {accuracy * 100:.2f}%\")"
   ]
  },
  {
   "cell_type": "code",
   "execution_count": 28,
   "id": "abf5c095",
   "metadata": {
    "execution": {
     "iopub.execute_input": "2024-10-08T09:02:22.385351Z",
     "iopub.status.busy": "2024-10-08T09:02:22.384277Z",
     "iopub.status.idle": "2024-10-08T09:02:22.397016Z",
     "shell.execute_reply": "2024-10-08T09:02:22.395777Z"
    },
    "papermill": {
     "duration": 0.031441,
     "end_time": "2024-10-08T09:02:22.399590",
     "exception": false,
     "start_time": "2024-10-08T09:02:22.368149",
     "status": "completed"
    },
    "tags": []
   },
   "outputs": [
    {
     "name": "stdout",
     "output_type": "stream",
     "text": [
      "Survived\n"
     ]
    }
   ],
   "source": [
    "rand_data_df = pd.DataFrame({\n",
    "    'PassengerId': [893],\n",
    "    'Pclass': [3],\n",
    "    'Sex': [1],\n",
    "    'Age': [25],\n",
    "    'SibSp': [0],\n",
    "    'Parch': [0],\n",
    "    'Fare': [7.25],\n",
    "    'Embarked': [1],\n",
    "    'Famlysize': [1]  \n",
    "})\n",
    "\n",
    "\n",
    "prediction = reg.predict(rand_data_df)\n",
    "if prediction[0] == 1:\n",
    "    print(\"Survived\")\n",
    "else:\n",
    "    print(\"Not Servibed\")\n"
   ]
  },
  {
   "cell_type": "code",
   "execution_count": 29,
   "id": "cc8d0b72",
   "metadata": {
    "execution": {
     "iopub.execute_input": "2024-10-08T09:02:22.433222Z",
     "iopub.status.busy": "2024-10-08T09:02:22.432636Z",
     "iopub.status.idle": "2024-10-08T09:02:23.313478Z",
     "shell.execute_reply": "2024-10-08T09:02:23.312000Z"
    },
    "papermill": {
     "duration": 0.900462,
     "end_time": "2024-10-08T09:02:23.316616",
     "exception": false,
     "start_time": "2024-10-08T09:02:22.416154",
     "status": "completed"
    },
    "tags": []
   },
   "outputs": [
    {
     "data": {
      "image/png": "[encoded data removed]",
      "text/plain": [
       "<Figure size 1000x600 with 1 Axes>"
      ]
     },
     "metadata": {},
     "output_type": "display_data"
    }
   ],
   "source": [
    "import seaborn as sns\n",
    "\n",
    "plt.figure(figsize=(10, 6))\n",
    "sns.boxplot(x='Survived', y='Age', data=df)\n",
    "plt.title('Age vs Survived')\n",
    "plt.show()"
   ]
  },
  {
   "cell_type": "code",
   "execution_count": null,
   "id": "e42b5b67",
   "metadata": {
    "papermill": {
     "duration": 0.015808,
     "end_time": "2024-10-08T09:02:23.347642",
     "exception": false,
     "start_time": "2024-10-08T09:02:23.331834",
     "status": "completed"
    },
    "tags": []
   },
   "outputs": [],
   "source": []
  }
 ],
 "metadata": {
  "kaggle": {
   "accelerator": "none",
   "dataSources": [],
   "dockerImageVersionId": 30786,
   "isGpuEnabled": false,
   "isInternetEnabled": true,
   "language": "python",
   "sourceType": "notebook"
  },
  "kernelspec": {
   "display_name": "Python 3",
   "language": "python",
   "name": "python3"
  },
  "language_info": {
   "codemirror_mode": {
    "name": "ipython",
    "version": 3
   },
   "file_extension": ".py",
   "mimetype": "text/x-python",
   "name": "python",
   "nbconvert_exporter": "python",
   "pygments_lexer": "ipython3",
   "version": "3.10.14"
  },
  "papermill": {
   "default_parameters": {},
   "duration": 10.720741,
   "end_time": "2024-10-08T09:02:24.391706",
   "environment_variables": {},
   "exception": null,
   "input_path": "__notebook__.ipynb",
   "output_path": "__notebook__.ipynb",
   "parameters": {},
   "start_time": "2024-10-08T09:02:13.670965",
   "version": "2.6.0"
  }
 },
 "nbformat": 4,
 "nbformat_minor": 5
}
